{
 "cells": [
  {
   "cell_type": "markdown",
   "metadata": {},
   "source": [
    "# College Fight Song Analysis"
   ]
  },
  {
   "cell_type": "code",
   "execution_count": 1,
   "metadata": {},
   "outputs": [],
   "source": [
    "%load_ext autoreload\n",
    "%autoreload 2"
   ]
  },
  {
   "cell_type": "code",
   "execution_count": 2,
   "metadata": {},
   "outputs": [],
   "source": [
    "import os\n",
    "import sys\n",
    "module_path = os.path.abspath(os.path.join(os.pardir, os.pardir))\n",
    "if module_path not in sys.path:\n",
    "    sys.path.append(module_path)"
   ]
  },
  {
   "cell_type": "code",
   "execution_count": 3,
   "metadata": {},
   "outputs": [],
   "source": [
    "from src.data_cleaning import load_clean_fight_songs\n",
    "from src import visualizations as viz"
   ]
  },
  {
   "cell_type": "markdown",
   "metadata": {},
   "source": [
    "## Data Preparation\n",
    "\n",
    "TODO: add explanation of data prep"
   ]
  },
  {
   "cell_type": "code",
   "execution_count": 4,
   "metadata": {},
   "outputs": [],
   "source": [
    "df = load_clean_fight_songs()"
   ]
  },
  {
   "cell_type": "code",
   "execution_count": 5,
   "metadata": {},
   "outputs": [
    {
     "data": {
      "text/html": [
       "<div>\n",
       "<style scoped>\n",
       "    .dataframe tbody tr th:only-of-type {\n",
       "        vertical-align: middle;\n",
       "    }\n",
       "\n",
       "    .dataframe tbody tr th {\n",
       "        vertical-align: top;\n",
       "    }\n",
       "\n",
       "    .dataframe thead th {\n",
       "        text-align: right;\n",
       "    }\n",
       "</style>\n",
       "<table border=\"1\" class=\"dataframe\">\n",
       "  <thead>\n",
       "    <tr style=\"text-align: right;\">\n",
       "      <th></th>\n",
       "      <th>school</th>\n",
       "      <th>conference</th>\n",
       "      <th>song_name</th>\n",
       "      <th>writers</th>\n",
       "      <th>year</th>\n",
       "      <th>student_writer</th>\n",
       "      <th>official_song</th>\n",
       "      <th>contest</th>\n",
       "      <th>bpm</th>\n",
       "      <th>sec_duration</th>\n",
       "      <th>...</th>\n",
       "      <th>win_won</th>\n",
       "      <th>victory_win_won</th>\n",
       "      <th>rah</th>\n",
       "      <th>nonsense</th>\n",
       "      <th>colors</th>\n",
       "      <th>men</th>\n",
       "      <th>opponents</th>\n",
       "      <th>spelling</th>\n",
       "      <th>trope_count</th>\n",
       "      <th>spotify_id</th>\n",
       "    </tr>\n",
       "  </thead>\n",
       "  <tbody>\n",
       "    <tr>\n",
       "      <th>0</th>\n",
       "      <td>Notre Dame</td>\n",
       "      <td>Independent</td>\n",
       "      <td>Victory March</td>\n",
       "      <td>Michael J. Shea and John F. Shea</td>\n",
       "      <td>1908</td>\n",
       "      <td>No</td>\n",
       "      <td>Yes</td>\n",
       "      <td>No</td>\n",
       "      <td>152</td>\n",
       "      <td>64</td>\n",
       "      <td>...</td>\n",
       "      <td>Yes</td>\n",
       "      <td>Yes</td>\n",
       "      <td>Yes</td>\n",
       "      <td>No</td>\n",
       "      <td>Yes</td>\n",
       "      <td>Yes</td>\n",
       "      <td>No</td>\n",
       "      <td>No</td>\n",
       "      <td>6</td>\n",
       "      <td>15a3ShKX3XWKzq0lSS48yr</td>\n",
       "    </tr>\n",
       "    <tr>\n",
       "      <th>1</th>\n",
       "      <td>Baylor</td>\n",
       "      <td>Big 12</td>\n",
       "      <td>Old Fight</td>\n",
       "      <td>Dick Baker and Frank Boggs</td>\n",
       "      <td>1947</td>\n",
       "      <td>Yes</td>\n",
       "      <td>Yes</td>\n",
       "      <td>No</td>\n",
       "      <td>76</td>\n",
       "      <td>99</td>\n",
       "      <td>...</td>\n",
       "      <td>Yes</td>\n",
       "      <td>Yes</td>\n",
       "      <td>No</td>\n",
       "      <td>No</td>\n",
       "      <td>Yes</td>\n",
       "      <td>No</td>\n",
       "      <td>No</td>\n",
       "      <td>Yes</td>\n",
       "      <td>5</td>\n",
       "      <td>2ZsaI0Cu4nz8DHfBkPt0Dl</td>\n",
       "    </tr>\n",
       "    <tr>\n",
       "      <th>2</th>\n",
       "      <td>Iowa State</td>\n",
       "      <td>Big 12</td>\n",
       "      <td>Iowa State Fights</td>\n",
       "      <td>Jack Barker, Manly Rice, Paul Gnam, Rosalind K...</td>\n",
       "      <td>1930</td>\n",
       "      <td>Yes</td>\n",
       "      <td>Yes</td>\n",
       "      <td>No</td>\n",
       "      <td>155</td>\n",
       "      <td>55</td>\n",
       "      <td>...</td>\n",
       "      <td>No</td>\n",
       "      <td>No</td>\n",
       "      <td>Yes</td>\n",
       "      <td>No</td>\n",
       "      <td>No</td>\n",
       "      <td>Yes</td>\n",
       "      <td>No</td>\n",
       "      <td>Yes</td>\n",
       "      <td>4</td>\n",
       "      <td>3yyfoOXZQCtR6pfRJqu9pl</td>\n",
       "    </tr>\n",
       "    <tr>\n",
       "      <th>3</th>\n",
       "      <td>Kansas</td>\n",
       "      <td>Big 12</td>\n",
       "      <td>I'm a Jayhawk</td>\n",
       "      <td>George \"Dumpy\" Bowles</td>\n",
       "      <td>1912</td>\n",
       "      <td>Yes</td>\n",
       "      <td>Yes</td>\n",
       "      <td>No</td>\n",
       "      <td>137</td>\n",
       "      <td>62</td>\n",
       "      <td>...</td>\n",
       "      <td>No</td>\n",
       "      <td>No</td>\n",
       "      <td>No</td>\n",
       "      <td>Yes</td>\n",
       "      <td>No</td>\n",
       "      <td>Yes</td>\n",
       "      <td>Yes</td>\n",
       "      <td>No</td>\n",
       "      <td>3</td>\n",
       "      <td>0JzbjZgcjugS0dmPjF9R89</td>\n",
       "    </tr>\n",
       "    <tr>\n",
       "      <th>4</th>\n",
       "      <td>Kansas State</td>\n",
       "      <td>Big 12</td>\n",
       "      <td>Wildcat Victory</td>\n",
       "      <td>Harry E. Erickson</td>\n",
       "      <td>1927</td>\n",
       "      <td>Yes</td>\n",
       "      <td>Yes</td>\n",
       "      <td>No</td>\n",
       "      <td>80</td>\n",
       "      <td>67</td>\n",
       "      <td>...</td>\n",
       "      <td>No</td>\n",
       "      <td>Yes</td>\n",
       "      <td>No</td>\n",
       "      <td>No</td>\n",
       "      <td>Yes</td>\n",
       "      <td>No</td>\n",
       "      <td>No</td>\n",
       "      <td>No</td>\n",
       "      <td>3</td>\n",
       "      <td>4xxDK4g1OHhZ44sTFy8Ktm</td>\n",
       "    </tr>\n",
       "  </tbody>\n",
       "</table>\n",
       "<p>5 rows × 23 columns</p>\n",
       "</div>"
      ],
      "text/plain": [
       "         school   conference          song_name  \\\n",
       "0    Notre Dame  Independent      Victory March   \n",
       "1        Baylor       Big 12          Old Fight   \n",
       "2    Iowa State       Big 12  Iowa State Fights   \n",
       "3        Kansas       Big 12      I'm a Jayhawk   \n",
       "4  Kansas State       Big 12    Wildcat Victory   \n",
       "\n",
       "                                             writers  year student_writer  \\\n",
       "0                   Michael J. Shea and John F. Shea  1908             No   \n",
       "1                         Dick Baker and Frank Boggs  1947            Yes   \n",
       "2  Jack Barker, Manly Rice, Paul Gnam, Rosalind K...  1930            Yes   \n",
       "3                              George \"Dumpy\" Bowles  1912            Yes   \n",
       "4                                  Harry E. Erickson  1927            Yes   \n",
       "\n",
       "  official_song contest  bpm  sec_duration  ... win_won  victory_win_won  rah  \\\n",
       "0           Yes      No  152            64  ...     Yes              Yes  Yes   \n",
       "1           Yes      No   76            99  ...     Yes              Yes   No   \n",
       "2           Yes      No  155            55  ...      No               No  Yes   \n",
       "3           Yes      No  137            62  ...      No               No   No   \n",
       "4           Yes      No   80            67  ...      No              Yes   No   \n",
       "\n",
       "  nonsense colors  men opponents spelling trope_count              spotify_id  \n",
       "0       No    Yes  Yes        No       No           6  15a3ShKX3XWKzq0lSS48yr  \n",
       "1       No    Yes   No        No      Yes           5  2ZsaI0Cu4nz8DHfBkPt0Dl  \n",
       "2       No     No  Yes        No      Yes           4  3yyfoOXZQCtR6pfRJqu9pl  \n",
       "3      Yes     No  Yes       Yes       No           3  0JzbjZgcjugS0dmPjF9R89  \n",
       "4       No    Yes   No        No       No           3  4xxDK4g1OHhZ44sTFy8Ktm  \n",
       "\n",
       "[5 rows x 23 columns]"
      ]
     },
     "execution_count": 5,
     "metadata": {},
     "output_type": "execute_result"
    }
   ],
   "source": [
    "df.head()"
   ]
  },
  {
   "cell_type": "code",
   "execution_count": 6,
   "metadata": {},
   "outputs": [
    {
     "name": "stdout",
     "output_type": "stream",
     "text": [
      "<class 'pandas.core.frame.DataFrame'>\n",
      "Int64Index: 60 entries, 0 to 64\n",
      "Data columns (total 23 columns):\n",
      " #   Column           Non-Null Count  Dtype \n",
      "---  ------           --------------  ----- \n",
      " 0   school           60 non-null     object\n",
      " 1   conference       60 non-null     object\n",
      " 2   song_name        60 non-null     object\n",
      " 3   writers          60 non-null     object\n",
      " 4   year             60 non-null     int64 \n",
      " 5   student_writer   60 non-null     object\n",
      " 6   official_song    60 non-null     object\n",
      " 7   contest          60 non-null     object\n",
      " 8   bpm              60 non-null     int64 \n",
      " 9   sec_duration     60 non-null     int64 \n",
      " 10  fight            60 non-null     object\n",
      " 11  number_fights    60 non-null     int64 \n",
      " 12  victory          60 non-null     object\n",
      " 13  win_won          60 non-null     object\n",
      " 14  victory_win_won  60 non-null     object\n",
      " 15  rah              60 non-null     object\n",
      " 16  nonsense         60 non-null     object\n",
      " 17  colors           60 non-null     object\n",
      " 18  men              60 non-null     object\n",
      " 19  opponents        60 non-null     object\n",
      " 20  spelling         60 non-null     object\n",
      " 21  trope_count      60 non-null     int64 \n",
      " 22  spotify_id       60 non-null     object\n",
      "dtypes: int64(5), object(18)\n",
      "memory usage: 11.2+ KB\n"
     ]
    }
   ],
   "source": [
    "df.info()"
   ]
  },
  {
   "cell_type": "markdown",
   "metadata": {},
   "source": [
    "## Data Understanding\n",
    "\n",
    "### Number of \"Fights\""
   ]
  },
  {
   "cell_type": "code",
   "execution_count": 7,
   "metadata": {},
   "outputs": [
    {
     "data": {
      "image/png": "[encoded data removed]",
      "text/plain": [
       "<Figure size 1080x576 with 1 Axes>"
      ]
     },
     "metadata": {
      "needs_background": "light"
     },
     "output_type": "display_data"
    }
   ],
   "source": [
    "viz.plot_highest_from_col(df, \"number_fights\", 15)"
   ]
  },
  {
   "cell_type": "markdown",
   "metadata": {},
   "source": [
    "In case you didn't notice"
   ]
  },
  {
   "cell_type": "markdown",
   "metadata": {},
   "source": [
    "there's supposed to be a conflict here"
   ]
  },
  {
   "cell_type": "code",
   "execution_count": null,
   "metadata": {},
   "outputs": [],
   "source": []
  }
 ],
 "metadata": {
  "kernelspec": {
   "display_name": "learn-env",
   "language": "python",
   "name": "learn-env"
  },
  "language_info": {
   "codemirror_mode": {
    "name": "ipython",
    "version": 3
   },
   "file_extension": ".py",
   "mimetype": "text/x-python",
   "name": "python",
   "nbconvert_exporter": "python",
   "pygments_lexer": "ipython3",
   "version": "3.7.4"
  }
 },
 "nbformat": 4,
 "nbformat_minor": 4
}
